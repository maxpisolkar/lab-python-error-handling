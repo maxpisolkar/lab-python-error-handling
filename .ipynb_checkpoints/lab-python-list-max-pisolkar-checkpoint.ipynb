{
 "cells": [
  {
   "cell_type": "code",
   "execution_count": 36,
   "id": "083ecb10-b75c-425c-b02f-7ca2521478d7",
   "metadata": {},
   "outputs": [],
   "source": [
    "products = [\"t-shirt\", \"mug\", \"hat\", \"book\", \"keychain\"]\n"
   ]
  },
  {
   "cell_type": "code",
   "execution_count": null,
   "id": "b2b8513a-0b04-451d-bdde-9853c06e38de",
   "metadata": {},
   "outputs": [
    {
     "name": "stdin",
     "output_type": "stream",
     "text": [
      "Enter the quantity of apples available:  one\n"
     ]
    },
    {
     "name": "stdout",
     "output_type": "stream",
     "text": [
      "Error: invalid literal for int() with base 10: 'one'\n"
     ]
    }
   ],
   "source": [
    "# Global list of products\n",
    "products = [\"apple\", \"banana\", \"orange\", \"bread\", \"milk\"]\n",
    "\n",
    "def initialize_inventory(products):\n",
    "    inventory = {}\n",
    "    for product in products:\n",
    "        valid_quantity = False\n",
    "        while not valid_quantity:\n",
    "            try:\n",
    "                quantity = int(input(f\"Enter the quantity of {product}s available: \"))\n",
    "                if quantity < 0:\n",
    "                    raise ValueError(\"Invalid quantity! Please enter a non-negative value.\")\n",
    "                valid_quantity = True\n",
    "            except ValueError as error:\n",
    "                print(f\"Error: {error}\")\n",
    "        inventory[product] = quantity\n",
    "    return inventory\n",
    "    \n",
    "def get_customer_orders():\n",
    "    customer_orders= []\n",
    "    while True:\n",
    "        try:\n",
    "            number_orders = int(input(f\"Enter the number of customer orders?\").strip().lower())\n",
    "            if number_orders <=0:\n",
    "                print(\"Error - number of orders must be a positive integer, please try again.\")\n",
    "            else:\n",
    "                break\n",
    "        except ValueError:\n",
    "            print(\"Invalid input. Please enter a valid number.\")\n",
    "\n",
    "    while len(customer_orders) < number_orders:\n",
    "        name = str(input(\"Enter the name of a product that a customer wants to order: \").strip().lower())\n",
    "        if name in products:\n",
    "            customer_orders.append(name)\n",
    "        else:\n",
    "            print(\"Item not in stock, please choose another.\")\n",
    "            \n",
    "    customer_orders = {item for item in customer_orders}\n",
    "\n",
    "    return customer_orders\n",
    "\n",
    "def update_inventory(customer_orders, inventory):\n",
    "    for item in customer_orders:\n",
    "        if item in inventory:\n",
    "            inventory[item] -= 1\n",
    "            print(f\"{item} inventory updated. Remaining: {inventory[item]}\")\n",
    "        else:\n",
    "            print(f\"{item} is not found in the inventory.\")\n",
    "    return inventory\n",
    "\n",
    "def calculate_order_statistics (customer_orders, products):\n",
    "    total_number_products= len(customer_orders)\n",
    "    percentage_ordered = (total_number_products / len(products)) * 100\n",
    "    return total_number_products, percentage_ordered\n",
    "\n",
    "def print_order_statistics(order_stats):\n",
    "    print(f\"Total number of products ordered: {order_stats[0]}\")\n",
    "    print(f\"Total number of unique products ordered: {order_stats[0]}\")\n",
    "\n",
    "def print_updated_inventory(inventory):\n",
    "    print(\"Updated Inventory:\")\n",
    "    print(\"\\n\".join([f\"{item}: {qty}\" for item, qty in inventory.items()]))\n",
    "\n",
    "def total_price(customer_orders):\n",
    "    prices = []\n",
    "    for item in customer_orders:\n",
    "        while True:\n",
    "            try:\n",
    "                price = float(input(f\"Enter the price of {item}: \"))\n",
    "                if price < 0:\n",
    "                    print(\"Price cannot be negative. Please try again.\")\n",
    "                else:\n",
    "                    prices.append(price)\n",
    "                    break\n",
    "            except ValueError:\n",
    "                print(\"Invalid input. Please enter a number.\")\n",
    "    print(f\"Total Price of Items: {sum(prices)}\")\n",
    "\n",
    "inventory = initialize_inventory(products)\n",
    "customer_orders = get_customer_orders()\n",
    "updated_inventory = update_inventory(customer_orders, inventory)\n",
    "order_stats = calculate_order_statistics(customer_orders, products)\n",
    "print_order_statistics(order_stats)\n",
    "print_updated_inventory(updated_inventory)\n",
    "total_price(customer_orders)\n",
    "    "
   ]
  },
  {
   "cell_type": "code",
   "execution_count": null,
   "id": "25e9bd35-a51a-4090-be8b-cb09a62a46dd",
   "metadata": {},
   "outputs": [],
   "source": []
  },
  {
   "cell_type": "code",
   "execution_count": null,
   "id": "1528a688-452b-4cc2-afd7-b5042b8dfda7",
   "metadata": {},
   "outputs": [],
   "source": []
  }
 ],
 "metadata": {
  "kernelspec": {
   "display_name": "Python [conda env:base] *",
   "language": "python",
   "name": "conda-base-py"
  },
  "language_info": {
   "codemirror_mode": {
    "name": "ipython",
    "version": 3
   },
   "file_extension": ".py",
   "mimetype": "text/x-python",
   "name": "python",
   "nbconvert_exporter": "python",
   "pygments_lexer": "ipython3",
   "version": "3.12.7"
  }
 },
 "nbformat": 4,
 "nbformat_minor": 5
}
